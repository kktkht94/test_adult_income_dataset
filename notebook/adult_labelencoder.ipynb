{
 "cells": [
  {
   "cell_type": "code",
   "execution_count": 11,
   "metadata": {},
   "outputs": [],
   "source": [
    "import pandas as pd\n",
    "import numpy as np\n",
    "import lightgbm as lgb\n",
    "from sklearn.metrics import confusion_matrix\n",
    "from sklearn.metrics import accuracy_score\n",
    "from sklearn import preprocessing\n",
    "from sklearn.preprocessing import LabelEncoder\n",
    "from sklearn.metrics import f1_score\n",
    "from sklearn.linear_model import LogisticRegression\n",
    "from sklearn.svm import LinearSVC, SVC\n",
    "from sklearn.ensemble import RandomForestClassifier\n",
    "import category_encoders as ce"
   ]
  },
  {
   "cell_type": "code",
   "execution_count": 2,
   "metadata": {},
   "outputs": [],
   "source": [
    "columns = [\n",
    "    \"age\",\n",
    "    \"workclass\",\n",
    "    \"fnlwgt\",\n",
    "    \"education\",\n",
    "    \"education-num\",\n",
    "    \"marital-status\",\n",
    "    \"occupation\",\n",
    "    \"relationship\",\n",
    "    \"race\",\n",
    "    \"sex\",\n",
    "    \"capital-gain\",\n",
    "    \"capital-loss\",\n",
    "    \"hours-per-week\",\n",
    "    \"native-country\",\n",
    "    \"income\",\n",
    "]\n",
    "\n",
    "categorical_features = [\n",
    "    \"workclass\",\n",
    "    \"education\",\n",
    "    \"marital-status\",\n",
    "    \"occupation\",\n",
    "    \"relationship\",\n",
    "    \"race\",\n",
    "    \"sex\",\n",
    "    \"native-country\",\n",
    "]"
   ]
  },
  {
   "cell_type": "code",
   "execution_count": 3,
   "metadata": {},
   "outputs": [],
   "source": [
    "le_y = preprocessing.LabelEncoder()\n",
    "le_x = {feature:preprocessing.LabelEncoder() for feature in categorical_features}"
   ]
  },
  {
   "cell_type": "code",
   "execution_count": 4,
   "metadata": {},
   "outputs": [],
   "source": [
    "train = pd.read_csv('../datasets/adult.data', header=None)\n",
    "train.columns = columns\n",
    "\n",
    "# data\n",
    "X_train = train.drop(['income'], axis=1)\n",
    "X_train[categorical_features] = X_train[categorical_features].astype('category')\n",
    "for feature in categorical_features:\n",
    "    le_x[feature].fit(X_train[feature])\n",
    "    X_train[feature] = le_x[feature].transform(X_train[feature])\n",
    "\n",
    "# label\n",
    "y_train = train['income'].astype('category')\n",
    "le_y.fit(y_train)\n",
    "y_train = le_y.transform(y_train)"
   ]
  },
  {
   "cell_type": "code",
   "execution_count": 5,
   "metadata": {},
   "outputs": [],
   "source": [
    "test = pd.read_csv('../datasets/adult.test', header=None, skiprows=1)\n",
    "test.columns = columns\n",
    "\n",
    "# data\n",
    "X_test = test.drop(['income'], axis=1)\n",
    "X_test[categorical_features] = X_test[categorical_features].astype('category')\n",
    "for feature in categorical_features:\n",
    "    le_x[feature].fit(X_test[feature])\n",
    "    X_test[feature] = le_x[feature].transform(X_test[feature])\n",
    "\n",
    "# label\n",
    "y_test = test['income'].astype('category')\n",
    "le_y.fit(y_test)\n",
    "y_test = le_y.transform(y_test)"
   ]
  },
  {
   "cell_type": "code",
   "execution_count": 6,
   "metadata": {},
   "outputs": [
    {
     "name": "stderr",
     "output_type": "stream",
     "text": [
      "C:\\Users\\koki\\Anaconda3\\lib\\site-packages\\sklearn\\linear_model\\logistic.py:432: FutureWarning: Default solver will be changed to 'lbfgs' in 0.22. Specify a solver to silence this warning.\n",
      "  FutureWarning)\n"
     ]
    },
    {
     "name": "stdout",
     "output_type": "stream",
     "text": [
      "0.7929731887841283\n",
      "0.7950371598796143\n",
      "[[11834   601]\n",
      " [ 2736  1110]]\n",
      "0.3994961310059384\n"
     ]
    }
   ],
   "source": [
    "# Logistic Regression\n",
    "model = LogisticRegression()\n",
    "model.fit(X_train, y_train)\n",
    "y_pred = model.predict(X_train)\n",
    "y_pred[y_pred<=0.5] = 0\n",
    "y_pred[y_pred>0.5] = 1\n",
    "\n",
    "# 精度 (Accuracy) を計算する\n",
    "accuracy = sum(y_train == y_pred) / len(y_train)\n",
    "print(accuracy)\n",
    "\n",
    "y_pred = model.predict(X_test)\n",
    "y_pred[y_pred<=0.5] = 0\n",
    "y_pred[y_pred>0.5] = 1\n",
    "\n",
    "# 精度 (Accuracy) を計算する\n",
    "accuracy = sum(y_test == y_pred) / len(y_test)\n",
    "print(accuracy)\n",
    "\n",
    "# 混合行列\n",
    "cm = confusion_matrix(y_test, y_pred)\n",
    "print(cm)\n",
    "\n",
    "# F値\n",
    "print(f1_score(y_test, y_pred))"
   ]
  },
  {
   "cell_type": "code",
   "execution_count": 8,
   "metadata": {},
   "outputs": [
    {
     "name": "stdout",
     "output_type": "stream",
     "text": [
      "0.2408095574460244\n",
      "0.2362876973158897\n",
      "[[    1 12434]\n",
      " [    0  3846]]\n",
      "0.38219218920798964\n"
     ]
    },
    {
     "name": "stderr",
     "output_type": "stream",
     "text": [
      "C:\\Users\\koki\\Anaconda3\\lib\\site-packages\\sklearn\\svm\\base.py:929: ConvergenceWarning: Liblinear failed to converge, increase the number of iterations.\n",
      "  \"the number of iterations.\", ConvergenceWarning)\n"
     ]
    }
   ],
   "source": [
    "# Linear SVC\n",
    "model = LinearSVC()\n",
    "model.fit(X_train, y_train)\n",
    "y_pred = model.predict(X_train)\n",
    "y_pred[y_pred<=0.5] = 0\n",
    "y_pred[y_pred>0.5] = 1\n",
    "\n",
    "# 精度 (Accuracy) を計算する\n",
    "accuracy = sum(y_train == y_pred) / len(y_train)\n",
    "print(accuracy)\n",
    "\n",
    "y_pred = model.predict(X_test)\n",
    "y_pred[y_pred<=0.5] = 0\n",
    "y_pred[y_pred>0.5] = 1\n",
    "\n",
    "# 精度 (Accuracy) を計算する\n",
    "accuracy = sum(y_test == y_pred) / len(y_test)\n",
    "print(accuracy)\n",
    "\n",
    "# 混合行列\n",
    "cm = confusion_matrix(y_test, y_pred)\n",
    "print(cm)\n",
    "\n",
    "# F値\n",
    "print(f1_score(y_test, y_pred))"
   ]
  },
  {
   "cell_type": "code",
   "execution_count": 9,
   "metadata": {},
   "outputs": [
    {
     "name": "stderr",
     "output_type": "stream",
     "text": [
      "C:\\Users\\koki\\Anaconda3\\lib\\site-packages\\sklearn\\svm\\base.py:193: FutureWarning: The default value of gamma will change from 'auto' to 'scale' in version 0.22 to account better for unscaled features. Set gamma explicitly to 'auto' or 'scale' to avoid this warning.\n",
      "  \"avoid this warning.\", FutureWarning)\n"
     ]
    },
    {
     "name": "stdout",
     "output_type": "stream",
     "text": [
      "0.9987101133257578\n",
      "0.7639579878385848\n",
      "[[12427     8]\n",
      " [ 3835    11]]\n",
      "0.005692108667529106\n"
     ]
    }
   ],
   "source": [
    "# SVC\n",
    "model = SVC()\n",
    "model.fit(X_train, y_train)\n",
    "y_pred = model.predict(X_train)\n",
    "y_pred[y_pred<=0.5] = 0\n",
    "y_pred[y_pred>0.5] = 1\n",
    "\n",
    "# 精度 (Accuracy) を計算する\n",
    "accuracy = sum(y_train == y_pred) / len(y_train)\n",
    "print(accuracy)\n",
    "\n",
    "y_pred = model.predict(X_test)\n",
    "y_pred[y_pred<=0.5] = 0\n",
    "y_pred[y_pred>0.5] = 1\n",
    "\n",
    "# 精度 (Accuracy) を計算する\n",
    "accuracy = sum(y_test == y_pred) / len(y_test)\n",
    "print(accuracy)\n",
    "\n",
    "# 混合行列\n",
    "cm = confusion_matrix(y_test, y_pred)\n",
    "print(cm)\n",
    "\n",
    "# F値\n",
    "print(f1_score(y_test, y_pred))"
   ]
  },
  {
   "cell_type": "code",
   "execution_count": 7,
   "metadata": {},
   "outputs": [
    {
     "name": "stderr",
     "output_type": "stream",
     "text": [
      "C:\\Users\\koki\\Anaconda3\\lib\\site-packages\\sklearn\\ensemble\\forest.py:245: FutureWarning: The default value of n_estimators will change from 10 in version 0.20 to 100 in 0.22.\n",
      "  \"10 in version 0.20 to 100 in 0.22.\", FutureWarning)\n"
     ]
    },
    {
     "name": "stdout",
     "output_type": "stream",
     "text": [
      "0.9874082491323977\n",
      "0.8502548983477674\n",
      "[[11644   791]\n",
      " [ 1647  2199]]\n",
      "0.6433586892919837\n"
     ]
    }
   ],
   "source": [
    "# RandomForestClassifier\n",
    "model = RandomForestClassifier()\n",
    "model.fit(X_train, y_train)\n",
    "y_pred = model.predict(X_train)\n",
    "y_pred[y_pred<=0.5] = 0\n",
    "y_pred[y_pred>0.5] = 1\n",
    "\n",
    "# 精度 (Accuracy) を計算する\n",
    "accuracy = sum(y_train == y_pred) / len(y_train)\n",
    "print(accuracy)\n",
    "\n",
    "y_pred = model.predict(X_test)\n",
    "y_pred[y_pred<=0.5] = 0\n",
    "y_pred[y_pred>0.5] = 1\n",
    "\n",
    "# 精度 (Accuracy) を計算する\n",
    "accuracy = sum(y_test == y_pred) / len(y_test)\n",
    "print(accuracy)\n",
    "\n",
    "# 混合行列\n",
    "cm = confusion_matrix(y_test, y_pred)\n",
    "print(cm)\n",
    "\n",
    "# F値\n",
    "print(f1_score(y_test, y_pred))"
   ]
  },
  {
   "cell_type": "code",
   "execution_count": 10,
   "metadata": {},
   "outputs": [
    {
     "name": "stdout",
     "output_type": "stream",
     "text": [
      "Collecting category_encoders\n",
      "  Downloading https://files.pythonhosted.org/packages/a0/52/c54191ad3782de633ea3d6ee3bb2837bda0cf3bc97644bb6375cf14150a0/category_encoders-2.1.0-py2.py3-none-any.whl (100kB)\n",
      "Requirement already satisfied: statsmodels>=0.6.1 in c:\\users\\koki\\anaconda3\\lib\\site-packages (from category_encoders) (0.10.1)\n",
      "Requirement already satisfied: numpy>=1.11.3 in c:\\users\\koki\\anaconda3\\lib\\site-packages (from category_encoders) (1.16.5)\n",
      "Requirement already satisfied: scikit-learn>=0.20.0 in c:\\users\\koki\\anaconda3\\lib\\site-packages (from category_encoders) (0.21.3)\n",
      "Requirement already satisfied: scipy>=0.19.0 in c:\\users\\koki\\anaconda3\\lib\\site-packages (from category_encoders) (1.3.1)\n",
      "Requirement already satisfied: patsy>=0.4.1 in c:\\users\\koki\\anaconda3\\lib\\site-packages (from category_encoders) (0.5.1)\n",
      "Requirement already satisfied: pandas>=0.21.1 in c:\\users\\koki\\anaconda3\\lib\\site-packages (from category_encoders) (0.25.1)\n",
      "Requirement already satisfied: joblib>=0.11 in c:\\users\\koki\\anaconda3\\lib\\site-packages (from scikit-learn>=0.20.0->category_encoders) (0.13.2)\n",
      "Requirement already satisfied: six in c:\\users\\koki\\anaconda3\\lib\\site-packages (from patsy>=0.4.1->category_encoders) (1.12.0)\n",
      "Requirement already satisfied: pytz>=2017.2 in c:\\users\\koki\\anaconda3\\lib\\site-packages (from pandas>=0.21.1->category_encoders) (2019.3)\n",
      "Requirement already satisfied: python-dateutil>=2.6.1 in c:\\users\\koki\\anaconda3\\lib\\site-packages (from pandas>=0.21.1->category_encoders) (2.8.0)\n",
      "Installing collected packages: category-encoders\n",
      "Successfully installed category-encoders-2.1.0\n"
     ]
    }
   ],
   "source": []
  }
 ],
 "metadata": {
  "kernelspec": {
   "display_name": "Python 3",
   "language": "python",
   "name": "python3"
  },
  "language_info": {
   "codemirror_mode": {
    "name": "ipython",
    "version": 3
   },
   "file_extension": ".py",
   "mimetype": "text/x-python",
   "name": "python",
   "nbconvert_exporter": "python",
   "pygments_lexer": "ipython3",
   "version": "3.7.4"
  }
 },
 "nbformat": 4,
 "nbformat_minor": 2
}
